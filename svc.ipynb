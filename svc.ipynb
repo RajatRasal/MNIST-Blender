{
 "cells": [
  {
   "cell_type": "markdown",
   "metadata": {},
   "source": [
    "# Support Vector Classifier (SVC)"
   ]
  },
  {
   "cell_type": "code",
   "execution_count": 1,
   "metadata": {
    "collapsed": true
   },
   "outputs": [],
   "source": [
    "import gc\n",
    "import numpy as np\n",
    "import pandas as pd\n",
    "import matplotlib.pyplot as plt\n",
    "import seaborn as sns\n",
    "\n",
    "import warnings\n",
    "warnings.filterwarnings(\"ignore\")\n",
    "\n",
    "plt.style.use(\"Solarize_Light2\")"
   ]
  },
  {
   "cell_type": "code",
   "execution_count": 2,
   "metadata": {},
   "outputs": [
    {
     "name": "stderr",
     "output_type": "stream",
     "text": [
      "/Users/rajatrasal/anaconda3/envs/crypto_time_series/lib/python3.6/site-packages/sklearn/utils/deprecation.py:77: DeprecationWarning: Function fetch_mldata is deprecated; fetch_mldata was deprecated in version 0.20 and will be removed in version 0.22\n",
      "  warnings.warn(msg, category=DeprecationWarning)\n",
      "/Users/rajatrasal/anaconda3/envs/crypto_time_series/lib/python3.6/site-packages/sklearn/utils/deprecation.py:77: DeprecationWarning: Function mldata_filename is deprecated; mldata_filename was deprecated in version 0.20 and will be removed in version 0.22\n",
      "  warnings.warn(msg, category=DeprecationWarning)\n"
     ]
    },
    {
     "data": {
      "text/plain": [
       "{'DESCR': 'mldata.org dataset: mnist-original',\n",
       " 'COL_NAMES': ['label', 'data'],\n",
       " 'target': array([0., 0., 0., ..., 9., 9., 9.]),\n",
       " 'data': array([[0, 0, 0, ..., 0, 0, 0],\n",
       "        [0, 0, 0, ..., 0, 0, 0],\n",
       "        [0, 0, 0, ..., 0, 0, 0],\n",
       "        ...,\n",
       "        [0, 0, 0, ..., 0, 0, 0],\n",
       "        [0, 0, 0, ..., 0, 0, 0],\n",
       "        [0, 0, 0, ..., 0, 0, 0]], dtype=uint8)}"
      ]
     },
     "execution_count": 2,
     "metadata": {},
     "output_type": "execute_result"
    }
   ],
   "source": [
    "from sklearn.datasets import fetch_mldata\n",
    "\n",
    "mnist = fetch_mldata('MNIST Original')\n",
    "mnist"
   ]
  },
  {
   "cell_type": "code",
   "execution_count": 3,
   "metadata": {},
   "outputs": [
    {
     "name": "stdout",
     "output_type": "stream",
     "text": [
      "X_train: (52500, 784) X_test: (17500, 784),\n",
      "y_train: (52500,) y_test: (17500,)\n"
     ]
    }
   ],
   "source": [
    "from sklearn.model_selection import train_test_split\n",
    "\n",
    "X, y = mnist['data'], mnist['target']\n",
    "\n",
    "X_train, X_test, y_train, y_test = train_test_split(X, y, test_size=0.25, random_state=42)\n",
    "print(f\"\"\"X_train: {X_train.shape} X_test: {X_test.shape},\n",
    "y_train: {y_train.shape} y_test: {y_test.shape}\"\"\")"
   ]
  },
  {
   "cell_type": "markdown",
   "metadata": {},
   "source": [
    "## Model"
   ]
  },
  {
   "cell_type": "code",
   "execution_count": 4,
   "metadata": {
    "collapsed": true
   },
   "outputs": [],
   "source": [
    "from sklearn.pipeline import Pipeline\n",
    "from sklearn.preprocessing import StandardScaler\n",
    "from sklearn.svm import LinearSVC, SVC\n",
    "from sklearn.model_selection import cross_val_predict\n",
    "from sklearn.metrics import f1_score, confusion_matrix, accuracy_score"
   ]
  },
  {
   "cell_type": "markdown",
   "metadata": {},
   "source": [
    "### How it works"
   ]
  },
  {
   "attachments": {},
   "cell_type": "markdown",
   "metadata": {},
   "source": [
    "A **Support Vector Classifier (SVC)** is used to provide an optimal hyperplane which can **separate data points into classes**. For a 2D dataset, this hyperplane is a line which separates data points into their individual catagories.\n",
    "\n",
    "Some key terms need to defined before going further:\n",
    "* **Gamma** - Determines how far the significant the influence of a single training point is when determining the cost of a model. ** (3) **\n",
    "* **Margin** - Determined by C in scikit-learn. Determines the acceptable width of the separate boundary. \n",
    "    * Hard-Margin - strict and can lead to overfitting. Very sensitive to outliers. C is high.\n",
    "    * Soft-Margin - more flexible. C is low.\n",
    "* **Support Vectors** - image below:\n",
    "![support-vectors.png](images/support-vectors.png)\n",
    "* **Kernel** - These are mathematical functions which take the input and transform it to some other form, which in turn, should make it easier identify class boundaries. Different types of kernels include: linear, nonlinear, polynomial ** (1) **, radial basis functions (RBF) and sigmoid. A kernel will return the inner product between two data records in the dataset, where one is selected as a landmark. Through the inner product, we have some notion of *similarity* between these points. So if we have 2 landmarks, by taking the inner product of each point in the dataset with the landmarks, we can now plot each data point in a 2D plane, regardless of how many features each data point has. ** (2) **\n",
    "\n",
    "Both gamma and margin regularisation parameters for an SVC.\n",
    "\n",
    "> #### *The objective is to find a good balance between keeping the street as large as possible and limiting the margin violations. - Tensorflow and Sklearn book page 149.*\n",
    "\n",
    "SVMs are sensitive to scaling!\n",
    "\n",
    "#### SV Kernels\n",
    "\n",
    "#### SV Loss Functions\n",
    "\n",
    "---\n",
    "** (1) ** Polynomial kernels are computationally inefficient and are not as effective when it comes to predictions.\n",
    "\n",
    "** (2) ** The most popular kernel for nonlinearly separable datasets is the RBF. The idea behind this kernel is to create non-linear combinations of features to lift the dataset into a higher dimensional feature space, where linear separation is posisble. The inner product here is defined as: $$\\phi_{\\gamma}(x, l) = exp(-\\gamma \\space || \\space x-l \\space ||^2)$$ where l is the landmark and x the point we want to transform/project.\n",
    "![RBF-Kernel.png](images/RBF-Kernel.png)\n",
    "\n",
    "** (3) ** In an RBF Kernel, increasing gamma makes the bell curve around each landmark narrower. From the formula in ** (2) **, we see how a larger gamma would increase the value of the norm, hence increasing how sensitive the model is to points which are further away."
   ]
  },
  {
   "cell_type": "code",
   "execution_count": 5,
   "metadata": {
    "collapsed": true
   },
   "outputs": [],
   "source": [
    "X_train2, X_val, y_train2, y_val = train_test_split(X_train, y_train, \n",
    "                                                    test_size=0.1, random_state=42)"
   ]
  },
  {
   "cell_type": "markdown",
   "metadata": {},
   "source": [
    "### Linear SVC"
   ]
  },
  {
   "cell_type": "code",
   "execution_count": 6,
   "metadata": {},
   "outputs": [
    {
     "name": "stdout",
     "output_type": "stream",
     "text": [
      "train accuracy: 0.8641904761904762\n",
      "val accuracy: 0.8278095238095238\n"
     ]
    }
   ],
   "source": [
    "linear_svm_clf = Pipeline([\n",
    "    ('scaler', StandardScaler()),\n",
    "    ('linear_svc', LinearSVC(C=2, loss=\"hinge\", max_iter=100)),\n",
    "])\n",
    "\n",
    "linear_svm_clf.fit(X_train2, y_train2)\n",
    "\n",
    "y_train_pred = cross_val_predict(linear_svm_clf, X_train2, y_train2, cv=5)\n",
    "y_val_pred = cross_val_predict(linear_svm_clf, X_val, y_val, cv=5)\n",
    "print(f\"train accuracy: {accuracy_score(y_train2, y_train_pred)}\")\n",
    "print(f\"val accuracy: {accuracy_score(y_val, y_val_pred)}\")"
   ]
  },
  {
   "cell_type": "code",
   "execution_count": 7,
   "metadata": {},
   "outputs": [
    {
     "name": "stdout",
     "output_type": "stream",
     "text": [
      "f1 score: [0.90991811 0.92601432 0.78190955 0.80285459 0.82731707 0.73181325\n",
      " 0.86834734 0.85465116 0.75592173 0.77579365]\n"
     ]
    },
    {
     "data": {
      "image/png": "[encoded data removed]",
      "text/plain": [
       "<Figure size 576x576 with 1 Axes>"
      ]
     },
     "metadata": {
      "needs_background": "light"
     },
     "output_type": "display_data"
    }
   ],
   "source": [
    "conf_mx = confusion_matrix(y_val, y_val_pred)\n",
    "print(f\"f1 score: {f1_score(y_val, y_val_pred, average=None)}\")\n",
    "\n",
    "fig, ax = plt.subplots(figsize=(8, 8))\n",
    "ax.matshow(conf_mx)\n",
    "plt.show()"
   ]
  },
  {
   "cell_type": "markdown",
   "metadata": {},
   "source": [
    "### Polynomial Kernel"
   ]
  },
  {
   "cell_type": "markdown",
   "metadata": {},
   "source": [
    "I have choosen hyperparameters from http://yann.lecun.com/exdb/mnist/."
   ]
  },
  {
   "cell_type": "code",
   "execution_count": 8,
   "metadata": {},
   "outputs": [
    {
     "name": "stdout",
     "output_type": "stream",
     "text": [
      "[LibSVM][LibSVM][LibSVM][LibSVM][LibSVM][LibSVM][LibSVM][LibSVM][LibSVM][LibSVM][LibSVM]\n",
      "train accuracy: 0.7660317460317461\n",
      "val accuracy: 0.8796190476190476\n"
     ]
    }
   ],
   "source": [
    "poly_svm_clf = Pipeline([\n",
    "    ('scaler', StandardScaler()),\n",
    "    ('poly_svc', SVC(kernel=\"poly\", degree=9, coef0=5, \n",
    "                     C=5, max_iter=30, cache_size=1000,\n",
    "                     verbose=True)),\n",
    "])\n",
    "\n",
    "poly_svm_clf.fit(X_train2, y_train2)\n",
    "\n",
    "y_train_pred = cross_val_predict(poly_svm_clf, X_train2, y_train2, cv=5)\n",
    "y_val_pred = cross_val_predict(poly_svm_clf, X_val, y_val, cv=5)\n",
    "print()\n",
    "print(f\"train accuracy: {accuracy_score(y_train2, y_train_pred)}\")\n",
    "print(f\"val accuracy: {accuracy_score(y_val, y_val_pred)}\")"
   ]
  },
  {
   "cell_type": "code",
   "execution_count": 9,
   "metadata": {},
   "outputs": [
    {
     "name": "stdout",
     "output_type": "stream",
     "text": [
      "f1 score: [0.94538944 0.95153473 0.85601578 0.85017422 0.86735654 0.85148515\n",
      " 0.92655367 0.86546185 0.85452696 0.8       ]\n"
     ]
    },
    {
     "data": {
      "image/png": "[encoded data removed]",
      "text/plain": [
       "<Figure size 576x576 with 1 Axes>"
      ]
     },
     "metadata": {
      "needs_background": "light"
     },
     "output_type": "display_data"
    }
   ],
   "source": [
    "conf_mx = confusion_matrix(y_val, y_val_pred)\n",
    "print(f\"f1 score: {f1_score(y_val, y_val_pred, average=None)}\")\n",
    "\n",
    "fig, ax = plt.subplots(figsize=(8, 8))\n",
    "ax.matshow(conf_mx)\n",
    "plt.show()"
   ]
  },
  {
   "cell_type": "markdown",
   "metadata": {},
   "source": [
    "### SVC with Gaussian RBF Kernel"
   ]
  },
  {
   "cell_type": "code",
   "execution_count": 10,
   "metadata": {},
   "outputs": [
    {
     "name": "stdout",
     "output_type": "stream",
     "text": [
      "[LibSVM][LibSVM][LibSVM][LibSVM][LibSVM][LibSVM][LibSVM][LibSVM][LibSVM][LibSVM][LibSVM]\n",
      "train accuracy: 0.21682539682539684\n",
      "val accuracy: 0.3182857142857143\n"
     ]
    }
   ],
   "source": [
    "rbf_kernel_clf = Pipeline([\n",
    "    ('scaler', StandardScaler()),\n",
    "    ('rbf_kernel', SVC(gamma=0.05, C=5, max_iter=10, \n",
    "                       cache_size=1000, tol=1e-4, \n",
    "                       verbose=True))\n",
    "])\n",
    "\n",
    "rbf_kernel_clf.fit(X_train2, y_train2)\n",
    "\n",
    "y_train_pred = cross_val_predict(rbf_kernel_clf, X_train2, y_train2, cv=5)\n",
    "y_val_pred = cross_val_predict(rbf_kernel_clf, X_val, y_val, cv=5)\n",
    "print()\n",
    "print(f\"train accuracy: {accuracy_score(y_train2, y_train_pred)}\")\n",
    "print(f\"val accuracy: {accuracy_score(y_val, y_val_pred)}\")"
   ]
  },
  {
   "cell_type": "code",
   "execution_count": 11,
   "metadata": {},
   "outputs": [
    {
     "name": "stdout",
     "output_type": "stream",
     "text": [
      "f1 score: [0.36893204 0.91495076 0.23774146 0.22824536 0.30630631 0.21016006\n",
      " 0.18305085 0.27089337 0.30201342 0.19145299]\n"
     ]
    },
    {
     "data": {
      "image/png": "[encoded data removed]",
      "text/plain": [
       "<Figure size 576x576 with 1 Axes>"
      ]
     },
     "metadata": {
      "needs_background": "light"
     },
     "output_type": "display_data"
    }
   ],
   "source": [
    "conf_mx = confusion_matrix(y_val, y_val_pred)\n",
    "print(f\"f1 score: {f1_score(y_val, y_val_pred, average=None)}\")\n",
    "\n",
    "fig, ax = plt.subplots(figsize=(8, 8))\n",
    "ax.matshow(conf_mx)\n",
    "plt.show()"
   ]
  },
  {
   "cell_type": "markdown",
   "metadata": {},
   "source": [
    "The main issue with the RBF Kernel is the high dimensionality of the data. This in addition to the already large dataset, 40,000 images +, means that the linear SVM will take a very long time to compute an optimal hyperplane since there will be many more coefficients which need to be optimized. \n",
    "\n",
    "Since this SVM will eventually be used within an ensemble, even if we have a set of weak classifiers (classifier which are no better than random guessing), we can build them up to make a strong classifier. Hence, a classifier which has an average performance and can be trained quickly is more appropriate than one which takes ages."
   ]
  },
  {
   "cell_type": "markdown",
   "metadata": {},
   "source": [
    "## Tuning"
   ]
  },
  {
   "cell_type": "code",
   "execution_count": 13,
   "metadata": {},
   "outputs": [
    {
     "name": "stdout",
     "output_type": "stream",
     "text": [
      "[LibSVM][LibSVM][LibSVM][LibSVM][LibSVM][LibSVM][LibSVM][LibSVM][LibSVM][LibSVM][LibSVM][LibSVM][LibSVM][LibSVM][LibSVM][LibSVM][LibSVM][LibSVM][LibSVM]"
     ]
    },
    {
     "data": {
      "text/plain": [
       "GridSearchCV(cv='warn', error_score='raise-deprecating',\n",
       "       estimator=Pipeline(memory=None,\n",
       "     steps=[('scaler', StandardScaler(copy=True, with_mean=True, with_std=True)), ('poly_svc', SVC(C=1.0, cache_size=1000, class_weight=None, coef0=0.0,\n",
       "  decision_function_shape='ovr', degree=3, gamma='auto_deprecated',\n",
       "  kernel='rbf', max_iter=10, probability=False, random_state=None,\n",
       "  shrinking=True, tol=0.001, verbose=True))]),\n",
       "       fit_params=None, iid='warn', n_jobs=None,\n",
       "       param_grid=[{'poly_svc__kernel': ['poly'], 'poly_svc__C': [5], 'poly_svc__degree': [8, 9], 'poly_svc__coef0': [5, 6, 7]}],\n",
       "       pre_dispatch='2*n_jobs', refit=True, return_train_score='warn',\n",
       "       scoring='accuracy', verbose=0)"
      ]
     },
     "execution_count": 13,
     "metadata": {},
     "output_type": "execute_result"
    }
   ],
   "source": [
    "from sklearn.model_selection import GridSearchCV\n",
    "\n",
    "\n",
    "poly_svm_clf = Pipeline([\n",
    "    ('scaler', StandardScaler()),\n",
    "    ('poly_svc', SVC(max_iter=10, cache_size=1000,\n",
    "                     verbose=True)),\n",
    "])\n",
    "\n",
    "\n",
    "params = [{'poly_svc__kernel': ['poly'], \n",
    "           'poly_svc__C': [5], \n",
    "           'poly_svc__degree': [8, 9], \n",
    "           'poly_svc__coef0': [5, 6, 7]}]\n",
    "\n",
    "grid_search = GridSearchCV(poly_svm_clf, params, scoring='accuracy')\n",
    "grid_search.fit(X_train2, y_train2)"
   ]
  },
  {
   "cell_type": "code",
   "execution_count": 14,
   "metadata": {},
   "outputs": [
    {
     "data": {
      "text/plain": [
       "{'C': 5, 'coef0': 5, 'degree': 9, 'kernel': 'poly'}"
      ]
     },
     "execution_count": 14,
     "metadata": {},
     "output_type": "execute_result"
    }
   ],
   "source": [
    "from re import split, sub\n",
    "\n",
    "# Replace all the Pipeline labels with parameters to the SVC estimator.\n",
    "sub_and_repl = lambda string: sub(r\"[a-zA-Z_]*_{2}\", \"\", string)\n",
    "best_params = {sub_and_repl(k):v for k, v in grid_search.best_params_.items()}\n",
    "best_params"
   ]
  },
  {
   "cell_type": "markdown",
   "metadata": {},
   "source": [
    "## Performance"
   ]
  },
  {
   "cell_type": "code",
   "execution_count": 15,
   "metadata": {},
   "outputs": [
    {
     "name": "stdout",
     "output_type": "stream",
     "text": [
      "[LibSVM][LibSVM][LibSVM][LibSVM][LibSVM][LibSVM][LibSVM][LibSVM][LibSVM][LibSVM][LibSVM]\n",
      "train accuracy: 0.7953862433862434\n",
      "test accuracy: 0.8629142857142857\n"
     ]
    }
   ],
   "source": [
    "poly_svm_clf = Pipeline([\n",
    "    ('scaler', StandardScaler()),\n",
    "    ('poly_svc', SVC(**best_params, tol=1e-8, max_iter=40, \n",
    "                     cache_size=1000, verbose=True))\n",
    "])\n",
    "\n",
    "poly_svm_clf.fit(X_train2, y_train2)\n",
    "\n",
    "y_train_pred = cross_val_predict(poly_svm_clf, X_train2, y_train2, cv=5)\n",
    "y_test_pred = cross_val_predict(poly_svm_clf, X_test, y_test, cv=5)\n",
    "print()\n",
    "print(f\"train accuracy: {accuracy_score(y_train2, y_train_pred)}\")\n",
    "print(f\"test accuracy: {accuracy_score(y_test, y_test_pred)}\")"
   ]
  },
  {
   "cell_type": "code",
   "execution_count": 16,
   "metadata": {},
   "outputs": [
    {
     "data": {
      "image/png": "[encoded data removed]",
      "text/plain": [
       "<Figure size 576x576 with 2 Axes>"
      ]
     },
     "metadata": {
      "needs_background": "light"
     },
     "output_type": "display_data"
    }
   ],
   "source": [
    "conf_mx = confusion_matrix(y_test, y_test_pred)\n",
    "\n",
    "fig, ax = plt.subplots(figsize=(8, 8))\n",
    "sns.heatmap(conf_mx, annot=True, fmt=\"d\")\n",
    "plt.show()"
   ]
  },
  {
   "cell_type": "code",
   "execution_count": 17,
   "metadata": {
    "collapsed": true
   },
   "outputs": [],
   "source": [
    "index = 0\n",
    "misclassified = []\n",
    "for label, predict in zip(y_test, y_test_pred):\n",
    "    if label != predict:\n",
    "        misclassified.append(index)\n",
    "    index += 1"
   ]
  },
  {
   "cell_type": "code",
   "execution_count": 18,
   "metadata": {},
   "outputs": [
    {
     "data": {
      "image/png": "[encoded data removed]",
      "text/plain": [
       "<Figure size 1440x288 with 5 Axes>"
      ]
     },
     "metadata": {
      "needs_background": "light"
     },
     "output_type": "display_data"
    }
   ],
   "source": [
    "plt.figure(figsize=(20, 4))\n",
    "for plot, i in enumerate(misclassified[0:5]):\n",
    "    ax = plt.subplot(1, 5, plot + 1) \n",
    "    ax.set_title(f\"Predicted: {y_test_pred[i]}, Actual: {y_test[i]}\")\n",
    "    plt.imshow(np.reshape(X_test[i], (28,28)), cmap=plt.cm.gray)"
   ]
  },
  {
   "cell_type": "markdown",
   "metadata": {},
   "source": [
    "## Saving Model For Blender"
   ]
  },
  {
   "cell_type": "code",
   "execution_count": 20,
   "metadata": {},
   "outputs": [
    {
     "data": {
      "text/plain": [
       "['svm_clf.joblib']"
      ]
     },
     "execution_count": 20,
     "metadata": {},
     "output_type": "execute_result"
    }
   ],
   "source": [
    "from joblib import dump\n",
    "dump(poly_svm_clf, \"svm_clf.joblib\")"
   ]
  },
  {
   "cell_type": "markdown",
   "metadata": {},
   "source": [
    "### References"
   ]
  },
  {
   "cell_type": "markdown",
   "metadata": {
    "collapsed": true
   },
   "source": [
    "[] https://medium.com/machine-learning-101/chapter-2-svm-support-vector-machine-theory-f0812effc72\n",
    "\n",
    "[] https://www.kdnuggets.com/2016/06/select-support-vector-machine-kernels.html\n",
    "\n",
    "[] https://thuijskens.github.io/2016/12/29/bayesian-optimisation/\n",
    "\n",
    "[] https://github.com/ksopyla/svm_mnist_digit_classification\n",
    "\n",
    "[] http://yann.lecun.com/exdb/mnist/\n",
    "\n",
    "[] http://www.robots.ox.ac.uk/~az/lectures/ml/lect2.pdf"
   ]
  }
 ],
 "metadata": {
  "kernelspec": {
   "display_name": "Python [conda env:crypto_time_series]",
   "language": "python",
   "name": "conda-env-crypto_time_series-py"
  },
  "language_info": {
   "codemirror_mode": {
    "name": "ipython",
    "version": 3
   },
   "file_extension": ".py",
   "mimetype": "text/x-python",
   "name": "python",
   "nbconvert_exporter": "python",
   "pygments_lexer": "ipython3",
   "version": "3.6.7"
  }
 },
 "nbformat": 4,
 "nbformat_minor": 2
}
