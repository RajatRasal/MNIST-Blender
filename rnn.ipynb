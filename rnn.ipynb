{
 "cells": [
  {
   "cell_type": "markdown",
   "metadata": {},
   "source": [
    "# Training a Sequence Classifier for MNIST"
   ]
  },
  {
   "cell_type": "markdown",
   "metadata": {},
   "source": [
    "We can use an RNN, just like a CNN, to make predictions on the MNIST dataset. The only difference being that we will input the image flattened and unrolled into the RNN; we will treat each 28 x 28 pixels image as 28 rows or 28 pixels each. "
   ]
  },
  {
   "cell_type": "markdown",
   "metadata": {},
   "source": [
    "### Add diagram of the network we intend to create"
   ]
  },
  {
   "cell_type": "markdown",
   "metadata": {},
   "source": [
    "### Construction of RNN"
   ]
  },
  {
   "cell_type": "code",
   "execution_count": 2,
   "metadata": {
    "collapsed": true
   },
   "outputs": [],
   "source": [
    "n_steps = 28 # Number of layers in the RNN\n",
    "n_inputs = 28 # Number of recurrent neurons at each layer\n",
    "n_neurons = 150 # Number of neurons in the \n",
    "n_outputs = 10 # Number of output classes"
   ]
  },
  {
   "cell_type": "code",
   "execution_count": 3,
   "metadata": {
    "collapsed": true
   },
   "outputs": [],
   "source": [
    "learning_rate = 0.001\n",
    "momentum = 0.8"
   ]
  },
  {
   "cell_type": "code",
   "execution_count": 5,
   "metadata": {},
   "outputs": [
    {
     "name": "stderr",
     "output_type": "stream",
     "text": [
      "/Users/rajatrasal/anaconda3/lib/python3.6/importlib/_bootstrap.py:219: RuntimeWarning: compiletime version 3.5 of module 'tensorflow.python.framework.fast_tensor_util' does not match runtime version 3.6\n",
      "  return f(*args, **kwds)\n",
      "/Users/rajatrasal/anaconda3/lib/python3.6/site-packages/h5py/__init__.py:34: FutureWarning: Conversion of the second argument of issubdtype from `float` to `np.floating` is deprecated. In future, it will be treated as `np.float64 == np.dtype(float).type`.\n",
      "  from ._conv import register_converters as _register_converters\n"
     ]
    }
   ],
   "source": [
    "import tensorflow as tf\n",
    "\n",
    "X = tf.placeholder(tf.float32, [None, n_steps, n_inputs], name='X')\n",
    "y = tf.placeholder(tf.int32, [None], name='y')\n",
    "\n",
    "with tf.name_scope(\"RNN\"):\n",
    "    # https://www.tensorflow.org/api_docs/python/tf/nn/dynamic_rnn\n",
    "    # https://www.tensorflow.org/api_docs/python/tf/nn/rnn_cell\n",
    "    basic_cell = tf.nn.rnn_cell.BasicRNNCell(num_units=n_neurons)\n",
    "    # State is the final state, the output from the rightmost time_unrolled neuron\n",
    "    # State is of shape (batch_size/n_neurons = 150, basic_cell.state_size = (150, )) \n",
    "    #     state.shape = (150, 150)\n",
    "    outputs, state = tf.nn.dynamic_rnn(basic_cell, X, dtype=tf.float32)\n",
    "\n",
    "with tf.name_scope(\"FC_SM_final_state\"):\n",
    "    # https://www.tensorflow.org/api_docs/python/tf/layers/dense\n",
    "    # The dense layer performs the following operation: \n",
    "    #     logits = activation(inputs * weights + bias)\n",
    "    # logits.shape = (150, 10) and inputs = state from final unrolled time step\n",
    "    logits = tf.layers.dense(state, n_outputs)\n",
    "    \n",
    "    # https://deepnotes.io/softmax-crossentropy\n",
    "    # https://sefiks.com/2017/12/17/a-gentle-introduction-to-cross-entropy-loss-function/\n",
    "    # https://datascience.stackexchange.com/questions/9302/the-cross-entropy-error-function-in-neural-networks\n",
    "    #\n",
    "    # The mean of the cross entropy is used as the loss function. \n",
    "    #\n",
    "    # We apply the softmax function to every row in the logits, i.e. every list\n",
    "    # of length 10. Then calculate the log loss of every row (look at the 3rd link - stack overflow),\n",
    "    # which we then return as a list of size (150, ). This is the cross entropy.\n",
    "    # We find the mean of this and use this as the loss we are trying to reduce.\n",
    "    xentropy = tf.nn.sparse_softmax_cross_entropy_with_logits(labels=y, logits=logits)\n",
    "    loss = tf.reduce_mean(xentropy)\n",
    "    tf.summary.scalar(\"losses\", loss)\n",
    "    \n",
    "with tf.name_scope(\"Gradient_Descent\"):\n",
    "    optimizer = tf.train.MomentumOptimizer(momentum=momentum, learning_rate=learning_rate)\n",
    "    training_op = optimizer.minimize(loss)\n",
    "\n",
    "with tf.name_scope(\"Metric\"):\n",
    "    # We look at each row in the logits and get the index of the value which has the \n",
    "    # highest probability. We then see if the index matches the expected y value for the \n",
    "    # number which we wanted to classify our image as.\n",
    "    correct = tf.nn.in_top_k(logits, y, 1)\n",
    "    accuracy = tf.reduce_mean(tf.cast(correct, tf.float32))\n",
    "    tf.summary.scalar(\"accuracy\", accuracy)\n",
    "\n",
    "init = tf.global_variables_initializer()\n",
    "merge = tf.summary.merge_all()"
   ]
  },
  {
   "cell_type": "markdown",
   "metadata": {},
   "source": [
    "### Training"
   ]
  },
  {
   "cell_type": "markdown",
   "metadata": {},
   "source": [
    "Using the Tensorflow wrapper for the MNIST dataset, we initialise a validation test set."
   ]
  },
  {
   "cell_type": "code",
   "execution_count": 6,
   "metadata": {},
   "outputs": [
    {
     "name": "stdout",
     "output_type": "stream",
     "text": [
      "Extracting tmp/data/train-images-idx3-ubyte.gz\n",
      "Extracting tmp/data/train-labels-idx1-ubyte.gz\n",
      "Extracting tmp/data/t10k-images-idx3-ubyte.gz\n",
      "Extracting tmp/data/t10k-labels-idx1-ubyte.gz\n",
      "(10000, 28, 28)\n",
      "(10000,)\n"
     ]
    }
   ],
   "source": [
    "from tensorflow.examples.tutorials.mnist import input_data\n",
    "\n",
    "# https://codelabs.developers.google.com/codelabs/cloud-tensorflow-mnist/#5\n",
    "# https://www.oreilly.com/learning/not-another-mnist-tutorial-with-tensorflow\n",
    "\n",
    "mnist = input_data.read_data_sets(\"tmp/data/\")\n",
    "X_test = mnist.test.images.reshape((-1, n_steps, n_inputs))\n",
    "y_test = mnist.test.labels\n",
    "\n",
    "print(X_test.shape)\n",
    "print(y_test.shape)"
   ]
  },
  {
   "cell_type": "markdown",
   "metadata": {},
   "source": [
    "We then train the RNN on minibatches of the MNIST dataset, calculating the training accuracy and validation accuracy after each training epoch."
   ]
  },
  {
   "cell_type": "code",
   "execution_count": 7,
   "metadata": {},
   "outputs": [
    {
     "name": "stdout",
     "output_type": "stream",
     "text": [
      "0 1 2 3 4 5 6 7 8 9 "
     ]
    }
   ],
   "source": [
    "n_epochs = 10\n",
    "# batch_size = 150\n",
    "\n",
    "with tf.Session() as sess:\n",
    "    init.run()\n",
    "    \n",
    "    training_acc = []\n",
    "    training_loss = []\n",
    "    \n",
    "    testing_acc = []\n",
    "    testing_loss = []\n",
    "    \n",
    "    summary_writer = tf.summary.FileWriter('./logs/', sess.graph)\n",
    "    \n",
    "    for epoch in range(n_epochs):\n",
    "        # Train RNN on each minibatch\n",
    "        for i in range(mnist.train.num_examples // n_neurons):\n",
    "            X_batch, y_batch = mnist.train.next_batch(n_neurons)\n",
    "            X_batch = X_batch.reshape((-1, n_steps, n_inputs))\n",
    "            l, _ = sess.run([loss, training_op], feed_dict={X: X_batch, y: y_batch})\n",
    "            \n",
    "        # Calculate training accuracy\n",
    "        l, a = sess.run([loss, accuracy], feed_dict={X: X_batch, y: y_batch})\n",
    "        \"\"\"\n",
    "        print(\"state_size:\", state.eval(feed_dict={X: X_batch, y: y_batch}).shape)\n",
    "        print(\"logits_size:\", logits.eval(feed_dict={X: X_batch, y: y_batch}).shape)\n",
    "        print(\"xentropy_size:\", xentropy.eval(feed_dict={X: X_batch, y: y_batch}))\n",
    "        \"\"\"\n",
    "        training_acc.append(a)\n",
    "        training_loss.append(l)\n",
    "        \n",
    "        # Calculate validation accuracy\n",
    "        l, a, summary = sess.run([loss, accuracy, merge], feed_dict={X: X_test, y: y_test})\n",
    "        testing_acc.append(a)\n",
    "        testing_loss.append(l)\n",
    "        \n",
    "        summary_writer.add_summary(summary, epoch)\n",
    "        \n",
    "        print(epoch, end=\" \")"
   ]
  },
  {
   "cell_type": "code",
   "execution_count": 6,
   "metadata": {},
   "outputs": [
    {
     "data": {
      "text/plain": [
       "<matplotlib.legend.Legend at 0x11bb15c50>"
      ]
     },
     "execution_count": 6,
     "metadata": {},
     "output_type": "execute_result"
    },
    {
     "data": {
      "image/png": "[encoded data removed]",
      "text/plain": [
       "<matplotlib.figure.Figure at 0x11b6e7ac8>"
      ]
     },
     "metadata": {},
     "output_type": "display_data"
    }
   ],
   "source": [
    "%matplotlib inline \n",
    "import matplotlib.pyplot as plt\n",
    "\n",
    "fig = plt.subplot(111)\n",
    "fig.set_title(\"Accuracies\")\n",
    "fig.plot(training_acc, label=\"training\")\n",
    "fig.plot(testing_acc, label=\"validation\")\n",
    "fig.legend()"
   ]
  },
  {
   "cell_type": "code",
   "execution_count": 7,
   "metadata": {},
   "outputs": [
    {
     "data": {
      "text/plain": [
       "<matplotlib.legend.Legend at 0x11bc49e80>"
      ]
     },
     "execution_count": 7,
     "metadata": {},
     "output_type": "execute_result"
    },
    {
     "data": {
      "image/png": "[encoded data removed]",
      "text/plain": [
       "<matplotlib.figure.Figure at 0x1243d3f98>"
      ]
     },
     "metadata": {},
     "output_type": "display_data"
    }
   ],
   "source": [
    "%matplotlib inline \n",
    "\n",
    "fig2 = plt.subplot(111)\n",
    "fig2.set_title(\"Losses\")\n",
    "fig2.plot(training_loss, label=\"training\")\n",
    "fig2.plot(testing_loss, label=\"validation\")\n",
    "fig2.legend()"
   ]
  },
  {
   "cell_type": "markdown",
   "metadata": {},
   "source": [
    "### Visualising the Model"
   ]
  },
  {
   "cell_type": "markdown",
   "metadata": {},
   "source": [
    "Created a tensorboard subprocess. So even if the cell has been stopped, the tensorboard page will still be visible.\n",
    "\n",
    "**So, we can run the cell and then stop it running by pressing the stop button in the toolbar above, and we will still be able to see the tensorboard page.**"
   ]
  },
  {
   "cell_type": "code",
   "execution_count": null,
   "metadata": {
    "collapsed": true
   },
   "outputs": [],
   "source": [
    "%%bash\n",
    "tensorboard --logdir=./logs --port=8889 & # This will fail if it has already been run once.\n",
    "# Make sure to manually stop this cell running (with the stop button in the toolbar) once it has run."
   ]
  },
  {
   "cell_type": "code",
   "execution_count": null,
   "metadata": {
    "collapsed": true
   },
   "outputs": [],
   "source": [
    "from IPython.core.display import display, HTML\n",
    "html = \"<iframe src='http://localhost:8889' height=700 width=100%></iframe>\"\n",
    "display(HTML(data=html))"
   ]
  },
  {
   "cell_type": "code",
   "execution_count": null,
   "metadata": {
    "collapsed": true
   },
   "outputs": [],
   "source": []
  }
 ],
 "metadata": {
  "kernelspec": {
   "display_name": "Python [conda env:anaconda3]",
   "language": "python",
   "name": "conda-env-anaconda3-py"
  },
  "language_info": {
   "codemirror_mode": {
    "name": "ipython",
    "version": 3
   },
   "file_extension": ".py",
   "mimetype": "text/x-python",
   "name": "python",
   "nbconvert_exporter": "python",
   "pygments_lexer": "ipython3",
   "version": "3.6.6"
  }
 },
 "nbformat": 4,
 "nbformat_minor": 2
}
